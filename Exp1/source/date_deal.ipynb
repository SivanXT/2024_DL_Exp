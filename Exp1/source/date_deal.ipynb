{
 "cells": [
  {
   "cell_type": "code",
   "execution_count": 8,
   "metadata": {},
   "outputs": [],
   "source": [
    "import torch \n",
    "import numpy as np\n",
    "import pandas as pd\n",
    "import matplotlib.pyplot as plt\n",
    "import math"
   ]
  },
  {
   "cell_type": "markdown",
   "metadata": {},
   "source": [
    "#### 1)\t在2.1数据操作章节中，Tensor数据x, y分别如图1(a)和图1(b)所示，利用逻辑运算符，编程找出x, y中对应位置不相同的元素，并输出这些元素的位置坐标。"
   ]
  },
  {
   "cell_type": "code",
   "execution_count": 9,
   "metadata": {},
   "outputs": [
    {
     "data": {
      "text/plain": [
       "tensor([[False, False,  True, False],\n",
       "        [ True, False, False,  True],\n",
       "        [False, False,  True, False]])"
      ]
     },
     "execution_count": 9,
     "metadata": {},
     "output_type": "execute_result"
    }
   ],
   "source": [
    "x = torch.tensor([[2,1,4,3],\n",
    "                 [1,2,3,4],\n",
    "                 [4,3,2,1]])\n",
    "y = torch.tensor([[2,1,2,3],\n",
    "                 [0,2,3,1],\n",
    "                 [4,3,4,1]])\n",
    "res = (x != y)\n",
    "# 此时不相等处为True\n",
    "res"
   ]
  },
  {
   "cell_type": "code",
   "execution_count": 10,
   "metadata": {},
   "outputs": [
    {
     "name": "stdout",
     "output_type": "stream",
     "text": [
      "tensor([[False, False,  True, False],\n",
      "        [ True, False, False,  True],\n",
      "        [False, False,  True, False]])\n",
      "tensor([4, 1, 4, 2])\n",
      "tensor([[ True,  True, False,  True],\n",
      "        [False,  True,  True, False],\n",
      "        [ True,  True, False,  True]])\n",
      "tensor([2, 1, 3, 2, 3, 4, 3, 1])\n"
     ]
    }
   ],
   "source": [
    "# res == True 返回不相等位置的索引\n",
    "index_1 = (res == True)\n",
    "index_2 = (res == False)\n",
    "print(index_1)\n",
    "print(x[index_1])\n",
    "print(index_2)\n",
    "print(x[index_2])"
   ]
  },
  {
   "cell_type": "markdown",
   "metadata": {},
   "source": [
    "#####  输出格式调整"
   ]
  },
  {
   "cell_type": "code",
   "execution_count": 11,
   "metadata": {},
   "outputs": [
    {
     "name": "stdout",
     "output_type": "stream",
     "text": [
      "tensor([4, 1, 4, 2])\n",
      "tensor([2, 0, 1, 4])\n",
      "tensor([[0, 2],\n",
      "        [1, 0],\n",
      "        [1, 3],\n",
      "        [2, 2]])\n",
      "[0,2]\n",
      "[1,0]\n",
      "[1,3]\n",
      "[2,2]\n"
     ]
    }
   ],
   "source": [
    "res = (x != y)\n",
    "# 打印出x和y中不相等的元素\n",
    "print(x[res == True])\n",
    "print(y[res == True])\n",
    "# 打印出不相等位置的索引\n",
    "print(np.nonzero(res))\n",
    "\n",
    "# for循环实现\n",
    "for i in range(list(res.shape)[0]):\n",
    "    for j in range(list(res.shape)[1]):\n",
    "        if res[i][j] == True:\n",
    "            print(f'[{i},{j}]')"
   ]
  },
  {
   "cell_type": "markdown",
   "metadata": {},
   "source": [
    "#### 2)\t如图2所示三组不同维度的tensor，请在代码中验证，是否都可以通过广播机制进行相加运算，如果不可以，请解释为什么？"
   ]
  },
  {
   "cell_type": "code",
   "execution_count": 12,
   "metadata": {},
   "outputs": [
    {
     "name": "stdout",
     "output_type": "stream",
     "text": [
      "torch.Size([2, 6]) torch.Size([2, 1])\n",
      "tensor([[2, 3, 4, 3, 2, 5],\n",
      "        [8, 9, 4, 5, 6, 4]])\n"
     ]
    }
   ],
   "source": [
    "# 第一组\n",
    "arr1 = torch.tensor([[1,2,3,2,1,4],[5,6,1,2,3,1]])\n",
    "arr2 = torch.tensor([[1],[3]])\n",
    "print(arr1.shape, arr2.shape)\n",
    "print(arr1 + arr2)"
   ]
  },
  {
   "cell_type": "code",
   "execution_count": 13,
   "metadata": {},
   "outputs": [
    {
     "name": "stdout",
     "output_type": "stream",
     "text": [
      "torch.Size([2, 1]) torch.Size([3, 2, 3])\n",
      "tensor([[[ 3,  2,  6],\n",
      "         [ 4,  3,  7]],\n",
      "\n",
      "        [[ 5,  6,  7],\n",
      "         [ 6,  7,  8]],\n",
      "\n",
      "        [[ 8,  9, 10],\n",
      "         [ 9, 10, 11]]])\n"
     ]
    }
   ],
   "source": [
    "# 第二组\n",
    "arr1 = torch.tensor([[1],[2]])\n",
    "arr2 = torch.tensor([[[2,1,5],[2,1,5]],[[4,5,6],[4,5,6]],[[7,8,9],[7,8,9]]])\n",
    "print(arr1.shape, arr2.shape)\n",
    "print(arr1 + arr2)"
   ]
  },
  {
   "cell_type": "code",
   "execution_count": 21,
   "metadata": {},
   "outputs": [
    {
     "name": "stdout",
     "output_type": "stream",
     "text": [
      "torch.Size([2, 1]) torch.Size([3, 3, 3])\n"
     ]
    },
    {
     "ename": "RuntimeError",
     "evalue": "The size of tensor a (2) must match the size of tensor b (3) at non-singleton dimension 1",
     "output_type": "error",
     "traceback": [
      "\u001b[1;31m---------------------------------------------------------------------------\u001b[0m",
      "\u001b[1;31mRuntimeError\u001b[0m                              Traceback (most recent call last)",
      "Cell \u001b[1;32mIn[21], line 5\u001b[0m\n\u001b[0;32m      3\u001b[0m arr2 \u001b[38;5;241m=\u001b[39m torch\u001b[38;5;241m.\u001b[39mtensor([[[\u001b[38;5;241m2\u001b[39m,\u001b[38;5;241m1\u001b[39m,\u001b[38;5;241m5\u001b[39m],[\u001b[38;5;241m2\u001b[39m,\u001b[38;5;241m1\u001b[39m,\u001b[38;5;241m5\u001b[39m],[\u001b[38;5;241m2\u001b[39m,\u001b[38;5;241m1\u001b[39m,\u001b[38;5;241m5\u001b[39m]],[[\u001b[38;5;241m4\u001b[39m,\u001b[38;5;241m5\u001b[39m,\u001b[38;5;241m6\u001b[39m],[\u001b[38;5;241m4\u001b[39m,\u001b[38;5;241m5\u001b[39m,\u001b[38;5;241m6\u001b[39m],[\u001b[38;5;241m4\u001b[39m,\u001b[38;5;241m5\u001b[39m,\u001b[38;5;241m6\u001b[39m]],[[\u001b[38;5;241m7\u001b[39m,\u001b[38;5;241m8\u001b[39m,\u001b[38;5;241m9\u001b[39m],[\u001b[38;5;241m7\u001b[39m,\u001b[38;5;241m8\u001b[39m,\u001b[38;5;241m9\u001b[39m],[\u001b[38;5;241m7\u001b[39m,\u001b[38;5;241m8\u001b[39m,\u001b[38;5;241m9\u001b[39m]]])\n\u001b[0;32m      4\u001b[0m \u001b[38;5;28mprint\u001b[39m(arr1\u001b[38;5;241m.\u001b[39mshape, arr2\u001b[38;5;241m.\u001b[39mshape)\n\u001b[1;32m----> 5\u001b[0m \u001b[38;5;28mprint\u001b[39m(\u001b[43marr1\u001b[49m\u001b[43m \u001b[49m\u001b[38;5;241;43m+\u001b[39;49m\u001b[43m \u001b[49m\u001b[43marr2\u001b[49m)\n",
      "\u001b[1;31mRuntimeError\u001b[0m: The size of tensor a (2) must match the size of tensor b (3) at non-singleton dimension 1"
     ]
    }
   ],
   "source": [
    "# 第三组\n",
    "arr1 = torch.tensor([[1],[2]])\n",
    "arr2 = torch.tensor([[[2,1,5],[2,1,5],[2,1,5]],[[4,5,6],[4,5,6],[4,5,6]],[[7,8,9],[7,8,9],[7,8,9]]])\n",
    "print(arr1.shape, arr2.shape)\n",
    "print(arr1 + arr2)"
   ]
  },
  {
   "cell_type": "markdown",
   "metadata": {},
   "source": [
    "##### 原因：在张量分向量不同时，不同的分量中，有一个需要为1,此处虽然arr1有一个维度为1，但是其第二个维度为2，与arr2中的对应维度（且该对应维度不为1）不匹配，所以无法广播相加"
   ]
  },
  {
   "cell_type": "markdown",
   "metadata": {},
   "source": [
    "#### 3)\t根据提供的csv数据集，删除缺失值最多的列，并将其他列的缺失项设置为0，最后将预处理后的数据集转换为张量格式。"
   ]
  },
  {
   "cell_type": "code",
   "execution_count": 15,
   "metadata": {},
   "outputs": [
    {
     "data": {
      "text/html": [
       "<div>\n",
       "<style scoped>\n",
       "    .dataframe tbody tr th:only-of-type {\n",
       "        vertical-align: middle;\n",
       "    }\n",
       "\n",
       "    .dataframe tbody tr th {\n",
       "        vertical-align: top;\n",
       "    }\n",
       "\n",
       "    .dataframe thead th {\n",
       "        text-align: right;\n",
       "    }\n",
       "</style>\n",
       "<table border=\"1\" class=\"dataframe\">\n",
       "  <thead>\n",
       "    <tr style=\"text-align: right;\">\n",
       "      <th></th>\n",
       "      <th>NumRooms</th>\n",
       "      <th>Alley</th>\n",
       "      <th>MSSubClass</th>\n",
       "      <th>Price</th>\n",
       "    </tr>\n",
       "  </thead>\n",
       "  <tbody>\n",
       "    <tr>\n",
       "      <th>0</th>\n",
       "      <td>NaN</td>\n",
       "      <td>Pave</td>\n",
       "      <td>60.0</td>\n",
       "      <td>127500</td>\n",
       "    </tr>\n",
       "    <tr>\n",
       "      <th>1</th>\n",
       "      <td>2.0</td>\n",
       "      <td>NaN</td>\n",
       "      <td>20.0</td>\n",
       "      <td>106000</td>\n",
       "    </tr>\n",
       "    <tr>\n",
       "      <th>2</th>\n",
       "      <td>4.0</td>\n",
       "      <td>NaN</td>\n",
       "      <td>NaN</td>\n",
       "      <td>178100</td>\n",
       "    </tr>\n",
       "    <tr>\n",
       "      <th>3</th>\n",
       "      <td>NaN</td>\n",
       "      <td>NaN</td>\n",
       "      <td>70.0</td>\n",
       "      <td>140000</td>\n",
       "    </tr>\n",
       "  </tbody>\n",
       "</table>\n",
       "</div>"
      ],
      "text/plain": [
       "   NumRooms Alley  MSSubClass   Price\n",
       "0       NaN  Pave        60.0  127500\n",
       "1       2.0   NaN        20.0  106000\n",
       "2       4.0   NaN         NaN  178100\n",
       "3       NaN   NaN        70.0  140000"
      ]
     },
     "execution_count": 15,
     "metadata": {},
     "output_type": "execute_result"
    }
   ],
   "source": [
    "df1 = pd.read_csv('./data/house_tiny_na.csv')\n",
    "df1"
   ]
  },
  {
   "cell_type": "code",
   "execution_count": 24,
   "metadata": {},
   "outputs": [
    {
     "name": "stdout",
     "output_type": "stream",
     "text": [
      "   NumRooms  MSSubClass   Price\n",
      "0       0.0        60.0  127500\n",
      "1       2.0        20.0  106000\n",
      "2       4.0         0.0  178100\n",
      "3       0.0        70.0  140000\n"
     ]
    },
    {
     "data": {
      "text/plain": [
       "tensor([[0.0000e+00, 6.0000e+01, 1.2750e+05],\n",
       "        [2.0000e+00, 2.0000e+01, 1.0600e+05],\n",
       "        [4.0000e+00, 0.0000e+00, 1.7810e+05],\n",
       "        [0.0000e+00, 7.0000e+01, 1.4000e+05]], dtype=torch.float64)"
      ]
     },
     "execution_count": 24,
     "metadata": {},
     "output_type": "execute_result"
    }
   ],
   "source": [
    "df1 = pd.read_csv('./data/house_tiny_na.csv')\n",
    "\n",
    "# 统计各列缺失值的个数\n",
    "col_nan_sum = df1.isna().sum(0)\n",
    "\n",
    "# 删除缺失值最多的那一列\n",
    "df2 = df1.drop(columns=[col_nan_sum.idxmax()])\n",
    "\n",
    "# 将其他列的缺失值设置为0\n",
    "df3 = df2.fillna(0)\n",
    "print(df3)\n",
    "# 将df3转换为张量格式\n",
    "features = torch.tensor(df3.values)\n",
    "features"
   ]
  },
  {
   "cell_type": "markdown",
   "metadata": {},
   "source": [
    "#### 4)\t想要对矩阵A按行进行归一化，运行A/A.sum(axis=1)，看看会发生什么，你能分析原因吗？怎样对这行代码进行改进，以完成按行归一化，改进的理由是什么？"
   ]
  },
  {
   "cell_type": "code",
   "execution_count": 26,
   "metadata": {},
   "outputs": [
    {
     "name": "stdout",
     "output_type": "stream",
     "text": [
      "tensor([ 6, 15])\n",
      "tensor([[ 6],\n",
      "        [15]])\n"
     ]
    },
    {
     "data": {
      "text/plain": [
       "tensor([[0.1667, 0.3333, 0.5000],\n",
       "        [0.2667, 0.3333, 0.4000]])"
      ]
     },
     "execution_count": 26,
     "metadata": {},
     "output_type": "execute_result"
    }
   ],
   "source": [
    "# 按行归一化\n",
    "A = torch.tensor([[1,2,3],[4,5,6]])\n",
    "print(A.sum(axis=1))\n",
    "print(A.sum(axis=1,keepdims=True))\n",
    "\n",
    "A/A.sum(axis=1,keepdims=True) # keepdims=True保持二维结构"
   ]
  },
  {
   "cell_type": "markdown",
   "metadata": {},
   "source": [
    "##### 理由：A/A.sum(axis=1, keepdims=True) 保持了原始数组的二维结构，而 A.sum(axis=1) 得到的是一维数组，无法直接用于归一化操作。"
   ]
  },
  {
   "cell_type": "markdown",
   "metadata": {},
   "source": [
    "#### 5）在同一绘图中同时绘制函数f(x)=lnx+cosx和其在x=π⁄2和x=0.5处切线的图像(关于切线可有两种求取方法)。"
   ]
  },
  {
   "cell_type": "markdown",
   "metadata": {},
   "source": [
    "##### 法一：极限逼近"
   ]
  },
  {
   "cell_type": "code",
   "execution_count": 18,
   "metadata": {},
   "outputs": [
    {
     "name": "stderr",
     "output_type": "stream",
     "text": [
      "C:\\Users\\41931\\AppData\\Local\\Temp\\ipykernel_29904\\2763291006.py:2: RuntimeWarning: divide by zero encountered in log\n",
      "  x = np.log(x) + np.cos(x)\n"
     ]
    },
    {
     "data": {
      "image/png": "[encoded data removed]",
      "text/plain": [
       "<Figure size 640x480 with 1 Axes>"
      ]
     },
     "metadata": {},
     "output_type": "display_data"
    }
   ],
   "source": [
    "def f1(x):\n",
    "    x = np.log(x) + np.cos(x)\n",
    "    return x\n",
    "\n",
    "# 基于极限逼近法求解函数某点导数\n",
    "def derivative_at_x(f, x):\n",
    "    h = 1e-5\n",
    "    derivative = (f(x + h) - f(x)) / h\n",
    "    return derivative\n",
    "\n",
    "\n",
    "# 指定计算切线的点\n",
    "x0 = torch.tensor(np.pi / 2)\n",
    "x1 = torch.tensor(0.5)\n",
    "\n",
    "# 计算该点处的导数（切线斜率）\n",
    "slope_x0 = derivative_at_x(f1,x0)\n",
    "slope_x1 = derivative_at_x(f1,x1)\n",
    "\n",
    "# 计算截距 代入点截式方程\n",
    "y0 = f1(x0)\n",
    "y1 = f1(x1)\n",
    "intercept_x0 = y0 - slope_x0 * x0\n",
    "intercept_x1 = y1 - slope_x1 * x1\n",
    "\n",
    "# 绘制函数图像\n",
    "x = np.linspace(0,2, 100) \n",
    "y = f1(x)\n",
    "plt.plot(x, y,label='f(x)')\n",
    "plt.plot(x0, y0, 'ro')\n",
    "plt.plot(x1, y1, 'ro')\n",
    "plt.plot(x, slope_x0 * x + intercept_x0, 'r',label='pi/2')\n",
    "plt.plot(x, slope_x1 * x + intercept_x1, 'g',label='0.5')\n",
    "plt.xlabel('x')\n",
    "plt.ylabel('f(x)')\n",
    "plt.legend()\n",
    "plt.savefig('./media/tangent1.png')\n",
    "plt.show()\n"
   ]
  },
  {
   "cell_type": "markdown",
   "metadata": {},
   "source": [
    "##### 法二：函数导数公式"
   ]
  },
  {
   "cell_type": "code",
   "execution_count": 19,
   "metadata": {},
   "outputs": [
    {
     "name": "stderr",
     "output_type": "stream",
     "text": [
      "C:\\Users\\41931\\AppData\\Local\\Temp\\ipykernel_29904\\2176774309.py:2: RuntimeWarning: divide by zero encountered in log\n",
      "  x = np.log(x) + np.cos(x)\n"
     ]
    },
    {
     "data": {
      "image/png": "[encoded data removed]",
      "text/plain": [
       "<Figure size 640x480 with 1 Axes>"
      ]
     },
     "metadata": {},
     "output_type": "display_data"
    }
   ],
   "source": [
    "def f1(x):\n",
    "    x = np.log(x) + np.cos(x)\n",
    "    return x\n",
    "\n",
    "# 基于导数公式法求解函数某点导数\n",
    "def derivative_at_x(x):\n",
    "    derivative = np.reciprocal(x) - np.sin(x)\n",
    "    return derivative\n",
    "\n",
    "\n",
    "# 指定计算切线的点\n",
    "x0 = torch.tensor(np.pi / 2)\n",
    "x1 = torch.tensor(0.5)\n",
    "\n",
    "# 计算该点处的导数（切线斜率）\n",
    "slope_x0 = derivative_at_x(x0)\n",
    "slope_x1 = derivative_at_x(x1)\n",
    "\n",
    "\n",
    "# 计算截距 代入点截式方程\n",
    "y0 = f1(x0)\n",
    "y1 = f1(x1)\n",
    "intercept_x0 = y0 - slope_x0 * x0\n",
    "intercept_x1 = y1 - slope_x1 * x1\n",
    "\n",
    "# 绘制函数图像\n",
    "x = np.linspace(0,2, 100)\n",
    "y = f1(x)\n",
    "plt.plot(x, y,label='f(x)')\n",
    "plt.plot(x0, y0, 'ro')\n",
    "plt.plot(x1, y1, 'ro')\n",
    "plt.plot(x, slope_x0 * x + intercept_x0, 'r',label='pi/2')\n",
    "plt.plot(x, slope_x1 * x + intercept_x1, 'g',label='0.5')\n",
    "plt.xlabel('x')\n",
    "plt.ylabel('f(x)')\n",
    "plt.legend()\n",
    "plt.savefig('./media/tangent2.png')\n",
    "plt.show()"
   ]
  },
  {
   "cell_type": "markdown",
   "metadata": {},
   "source": [
    "##### 法三：torch自动求导"
   ]
  },
  {
   "cell_type": "code",
   "execution_count": 20,
   "metadata": {},
   "outputs": [
    {
     "data": {
      "image/png": "[encoded data removed]",
      "text/plain": [
       "<Figure size 640x480 with 1 Axes>"
      ]
     },
     "metadata": {},
     "output_type": "display_data"
    }
   ],
   "source": [
    "def f1(x):\n",
    "    return torch.log(x) + torch.cos(x)\n",
    "\n",
    "def auto_gradient(x):\n",
    "    y = f1(x)\n",
    "    y.backward()\n",
    "    b = y - x.grad * x\n",
    "    return x.grad, b\n",
    "\n",
    "\n",
    "# 指定计算切线的点\n",
    "x0 = torch.tensor(np.pi / 2)\n",
    "x1 = torch.tensor(0.5)\n",
    "\n",
    "# 设置开始跟踪计算图 其实本质就是保存链式法则的中间结果\n",
    "x0.requires_grad = True\n",
    "x1.requires_grad = True\n",
    "\n",
    "# 计算该点处的导数（切线斜率）和切线截距\n",
    "slope_x0,intercept_x0 = auto_gradient(x0)\n",
    "slope_x1,intercept_x1 = auto_gradient(x1)\n",
    "\n",
    "\n",
    "# 绘制函数图像\n",
    "x = torch.linspace(0,2, 100)\n",
    "y = f1(x)\n",
    "# plt.plot(x.detach().numpy(), y.detach().numpy(),label='f(x)')\n",
    "plt.plot(x, y,label='f(x)')\n",
    "plt.plot(x0.detach().numpy(), y0.detach().numpy(), 'ro')\n",
    "plt.plot(x1.detach().numpy(), y1.detach().numpy(), 'ro')\n",
    "plt.plot(x.numpy(), (slope_x0 * x + intercept_x0).detach().numpy(), 'r',label='pi/2')\n",
    "plt.plot(x.numpy(), (slope_x1 * x + intercept_x1).detach().numpy(), 'g',label='0.5')\n",
    "plt.xlabel('x')\n",
    "plt.ylabel('f(x)')\n",
    "plt.legend()\n",
    "plt.savefig('./media/tangent3.png')\n",
    "plt.show()\n"
   ]
  }
 ],
 "metadata": {
  "kernelspec": {
   "display_name": "pytorch",
   "language": "python",
   "name": "python3"
  },
  "language_info": {
   "codemirror_mode": {
    "name": "ipython",
    "version": 3
   },
   "file_extension": ".py",
   "mimetype": "text/x-python",
   "name": "python",
   "nbconvert_exporter": "python",
   "pygments_lexer": "ipython3",
   "version": "3.9.16"
  }
 },
 "nbformat": 4,
 "nbformat_minor": 2
}
